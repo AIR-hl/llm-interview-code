{
 "cells": [
  {
   "cell_type": "markdown",
   "id": "b55975c6",
   "metadata": {},
   "source": [
    "# DPO loss\n",
    "\n",
    "$$\n",
    "\\begin{equation*}     \\mathcal{L}_\\text{DPO}(\\pi_{\\theta}; \\pi_{ref}) = -\\mathbb{E}_{(x, y_w, y_l)\\sim \\mathcal{D}}\\left[\\log \\sigma \\left(\\beta \\log \\frac{\\pi_{\\theta}(y_w\\mid x)}{\\pi_{ref}(y_w\\mid x)} - \\beta \\log \\frac{\\pi_{\\theta}(y_l\\mid x)}{\\pi_{ref}(y_l\\mid x)}\\right)\\right] \\end{equation*}\n",
    "$$"
   ]
  },
  {
   "cell_type": "code",
   "execution_count": null,
   "id": "e884ccd7",
   "metadata": {},
   "outputs": [],
   "source": [
    "from torch.nn import functional as F\n",
    "\n",
    "def dpo_loss(chosen_logp, rejected_logp, ref_chosen_logp, ref_rejected_logp, beta=0.1):\n",
    "    chosen_logratio = chosen_logp - ref_chosen_logp\n",
    "    rejected_logratio = rejected_logp - ref_rejected_logp\n",
    "    logratio=chosen_logratio - rejected_logratio\n",
    "    return - F.logsigmoid(beta * logratio).mean()"
   ]
  }
 ],
 "metadata": {
  "kernelspec": {
   "display_name": "gaia",
   "language": "python",
   "name": "python3"
  },
  "language_info": {
   "name": "python",
   "version": "3.11.13"
  }
 },
 "nbformat": 4,
 "nbformat_minor": 5
}
