{
 "cells": [
  {
   "cell_type": "markdown",
   "id": "bbc37522",
   "metadata": {},
   "source": [
    "# KL Divergence\n",
    "\n",
    "$$\n",
    "D_{KL}(P||Q) = \\sum_{x} P(x) \\log \\frac{P(x)}{Q(x)}\n",
    "$$\n"
   ]
  },
  {
   "cell_type": "code",
   "execution_count": null,
   "id": "5cbb2d92",
   "metadata": {},
   "outputs": [],
   "source": [
    "import torch\n",
    "\n",
    "def compute_kl(logp, ref_logp, method=\"k1\"):\n",
    "    logr=ref_logp - logp\n",
    "    if method==\"k1\":\n",
    "        kl=-logr\n",
    "    elif method==\"k2\":\n",
    "        kl=(logr ** 2) / 2\n",
    "    else:\n",
    "        kl=torch.exp(logr) - logr - 1\n",
    "    return kl"
   ]
  }
 ],
 "metadata": {
  "language_info": {
   "name": "python"
  }
 },
 "nbformat": 4,
 "nbformat_minor": 5
}
