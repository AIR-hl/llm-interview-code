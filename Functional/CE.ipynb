{
 "cells": [
  {
   "cell_type": "markdown",
   "id": "04748b07",
   "metadata": {},
   "source": [
    "# Cross-Entropy Loss"
   ]
  },
  {
   "cell_type": "code",
   "execution_count": null,
   "id": "912a0405",
   "metadata": {},
   "outputs": [],
   "source": [
    "import torch\n",
    "import torch.nn.functional as F\n",
    "\n",
    "def ce_loss(predict, target):\n",
    "    \"\"\"\n",
    "    Args:\n",
    "        logits: 模型的未归一化输出 (形状: [batch_size, num_classes])\n",
    "        target: 若为类别索引 (形状: [batch_size])，则为每个样本的类别；\n",
    "                若为概率分布 (形状: [batch_size, num_classes])，则为每个样本上各类别的分布。\n",
    "    Returns:\n",
    "        loss: 交叉熵损失标量\n",
    "    \"\"\"\n",
    "    log_prob=F.log_softmax(predict, dim=-1)\n",
    "\n",
    "    if target.dim()==1:\n",
    "        loss=-log_prob.gather(dim=-1, index=target.unsqueeze(-1)).squeeze(-1)\n",
    "    else:\n",
    "        loss=-(target*log_prob).sum(dim=-1)\n",
    "    return loss.mean()"
   ]
  }
 ],
 "metadata": {
  "kernelspec": {
   "display_name": "gaia",
   "language": "python",
   "name": "python3"
  },
  "language_info": {
   "name": "python",
   "version": "3.11.13"
  }
 },
 "nbformat": 4,
 "nbformat_minor": 5
}
