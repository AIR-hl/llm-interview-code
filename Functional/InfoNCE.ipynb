{
 "cells": [
  {
   "cell_type": "markdown",
   "id": "c1a5891b",
   "metadata": {},
   "source": [
    "# InfoNCE Loss"
   ]
  },
  {
   "cell_type": "code",
   "execution_count": null,
   "id": "44b0a3a6",
   "metadata": {},
   "outputs": [],
   "source": []
  }
 ],
 "metadata": {
  "kernelspec": {
   "display_name": "gaia",
   "language": "python",
   "name": "python3"
  },
  "language_info": {
   "name": "python",
   "version": "3.11.13"
  }
 },
 "nbformat": 4,
 "nbformat_minor": 5
}
