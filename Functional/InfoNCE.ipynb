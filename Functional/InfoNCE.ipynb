{
 "cells": [
  {
   "cell_type": "markdown",
   "id": "c1a5891b",
   "metadata": {},
   "source": [
    "# InfoNCE Loss\n",
    "\n",
    "$$\n",
    "\\mathcal{L}_{info} = -\\frac{1}{N}\\sum_{i=1}^N \\log\\frac{\\exp(sim(x_{i}, x_i^+)/\\tau)}{\\sum_{k=1}^{K} \\exp(sim(x_i, x_k^{-})/\\tau)}\n",
    "$$"
   ]
  },
  {
   "cell_type": "code",
   "execution_count": null,
   "id": "44b0a3a6",
   "metadata": {},
   "outputs": [],
   "source": [
    "import torch\n",
    "import torch.nn.functional as F\n",
    "\n",
    "def info_nce_loss(pairs, temperature=0.07):\n",
    "    \"\"\"\n",
    "    InfoNCE损失函数，使用in-batch样本作为negative sample\n",
    "    Args:\n",
    "        pairs (torch.Tensor): 输入样本对, shape: [batch_size, 2, feature_dim]\n",
    "        temperature (float): 温度系数\n",
    "    \"\"\"\n",
    "    z1 = F.normalize(pairs[:, 0], p=2, dim=1) # L2归一化后余弦相似度等价于点积\n",
    "    z2 = F.normalize(pairs[:, 1], p=2, dim=1) \n",
    "    \n",
    "    sim_matrix = z1 @ z2.T / temperature # 计算相似度矩阵\n",
    "    pos_sim = sim_matrix.diagonal() \n",
    "    total_sim = torch.logsumexp(sim_matrix, dim=1) # 分母：所有样本的相似度（包括正样本和负样本）\n",
    "    \n",
    "    # -log(exp(pos_sim) / exp(total_sim))\n",
    "    loss = -pos_sim + total_sim\n",
    "    \n",
    "    return loss.mean()"
   ]
  }
 ],
 "metadata": {
  "kernelspec": {
   "display_name": "gaia",
   "language": "python",
   "name": "python3"
  },
  "language_info": {
   "codemirror_mode": {
    "name": "ipython",
    "version": 3
   },
   "file_extension": ".py",
   "mimetype": "text/x-python",
   "name": "python",
   "nbconvert_exporter": "python",
   "pygments_lexer": "ipython3",
   "version": "3.11.13"
  }
 },
 "nbformat": 4,
 "nbformat_minor": 5
}
