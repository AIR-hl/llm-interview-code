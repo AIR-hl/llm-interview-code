{
 "cells": [
  {
   "cell_type": "markdown",
   "id": "adf0b727",
   "metadata": {},
   "source": [
    "# Activation Function\n",
    "## Sigmoid"
   ]
  },
  {
   "cell_type": "code",
   "execution_count": null,
   "id": "03069e00",
   "metadata": {},
   "outputs": [],
   "source": [
    "import numpy as np\n",
    "\n",
    "def sigmoid(x):\n",
    "    return 1 / (1+np.exp(-x))"
   ]
  },
  {
   "cell_type": "markdown",
   "id": "aa98c150",
   "metadata": {},
   "source": [
    "## Softmax"
   ]
  },
  {
   "cell_type": "code",
   "execution_count": null,
   "id": "90f42046",
   "metadata": {},
   "outputs": [],
   "source": [
    "import numpy as np\n",
    "\n",
    "def softmax(x, dim):\n",
    "    exp_x=np.exp(x-np.max(x, axis=dim, keepdims=True)) # 减去最大值防止数值溢出\n",
    "    return exp_x / np.sum(exp_x, axis=dim, keepdims=True)"
   ]
  },
  {
   "cell_type": "markdown",
   "id": "3d4dbccf",
   "metadata": {},
   "source": [
    "## SiLU (Swish)"
   ]
  },
  {
   "cell_type": "code",
   "execution_count": null,
   "id": "007abd08",
   "metadata": {},
   "outputs": [],
   "source": [
    "import numpy as np\n",
    "\n",
    "def silu(x): \n",
    "    return x / (1+np.exp(-x)) # sigmoid(x) = 1 / (1 + np.exp(-x))"
   ]
  }
 ],
 "metadata": {
  "kernelspec": {
   "display_name": "gaia",
   "language": "python",
   "name": "python3"
  },
  "language_info": {
   "name": "python",
   "version": "3.11.13"
  }
 },
 "nbformat": 4,
 "nbformat_minor": 5
}
