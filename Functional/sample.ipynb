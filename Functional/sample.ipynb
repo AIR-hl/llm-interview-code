{
 "cells": [
  {
   "cell_type": "markdown",
   "id": "e67f6900",
   "metadata": {},
   "source": [
    "# 采样\n",
    "\n",
    "采样顺序需按照：temperature -> top-k -> top-p"
   ]
  },
  {
   "cell_type": "code",
   "execution_count": 7,
   "id": "0fa592b9",
   "metadata": {},
   "outputs": [],
   "source": [
    "import torch\n",
    "\n",
    "def sample(logits, greedy=False, temperature=1.0, top_k=0, top_p=0.0):\n",
    "    \"\"\"\n",
    "    logits: [batch_size, vocab_size]  # 简化为单步采样\n",
    "    \"\"\"\n",
    "    if temperature == 0 or greedy: # 贪婪采样\n",
    "        return torch.argmax(logits, dim=-1).unsqueeze(-1) # [batch_size, 1]\n",
    "\n",
    "    if temperature > 0:\n",
    "        logits = logits / temperature\n",
    "\n",
    "    if top_k > 0:\n",
    "        values, _ = torch.topk(logits, top_k) # [batch_size, top_k]\n",
    "        min_values = values[:, -1].unsqueeze(-1) # [batch_size, 1]\n",
    "        # 需要将topk logits散布回原来的位置，保持形状不变，方便后续的multinomial\n",
    "        logits = torch.where(logits < min_values, torch.full_like(logits, -float(\"inf\")), logits)\n",
    "\n",
    "    if 0 < top_p < 1:\n",
    "        sorted_logits, sorted_indices = torch.sort(logits, descending=True)\n",
    "        probs = torch.softmax(sorted_logits, dim=-1)\n",
    "        cumprobs = torch.cumsum(probs, dim=-1)\n",
    "\n",
    "        mask = cumprobs > top_p\n",
    "        mask[:, 1:] = mask[:, :-1].clone() # 将mask右移一位，表示当前位置之前的累积prob是否大于top_p\n",
    "        mask[:, 0] = False\n",
    "\n",
    "        sorted_logits[mask] = -float(\"inf\")\n",
    "        logits = torch.full_like(logits, -float(\"inf\")).scatter(-1, sorted_indices, sorted_logits)\n",
    "\n",
    "    probs = torch.softmax(logits, dim=-1)\n",
    "    next_token_id = torch.multinomial(probs, num_samples=1) # 根据prob进行随机抽样\n",
    "    return next_token_id"
   ]
  }
 ],
 "metadata": {
  "kernelspec": {
   "display_name": "gaia",
   "language": "python",
   "name": "python3"
  },
  "language_info": {
   "codemirror_mode": {
    "name": "ipython",
    "version": 3
   },
   "file_extension": ".py",
   "mimetype": "text/x-python",
   "name": "python",
   "nbconvert_exporter": "python",
   "pygments_lexer": "ipython3",
   "version": "3.11.13"
  }
 },
 "nbformat": 4,
 "nbformat_minor": 5
}
