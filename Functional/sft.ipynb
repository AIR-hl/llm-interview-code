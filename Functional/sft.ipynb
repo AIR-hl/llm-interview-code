{
 "cells": [
  {
   "cell_type": "markdown",
   "id": "22d00460",
   "metadata": {},
   "source": [
    "# SFT loss"
   ]
  },
  {
   "cell_type": "code",
   "execution_count": null,
   "id": "6169822b",
   "metadata": {},
   "outputs": [],
   "source": [
    "import torch.nn.functional as F\n",
    "\n",
    "def causal_lm_loss(\n",
    "    logits, # [batch_size, seq_len, hidden_dim]\n",
    "    labels, # [batch_size, seq_len]\n",
    "    pad_token_id: int = 0, \n",
    "    **kwargs\n",
    "):\n",
    "    # 取最后一个token前的所有token\n",
    "    shift_logits = logits[..., :-1, :].contiguous().view(-1, logits.size(-1)) # [batch_size * (seq_len-1), hidden_dim]\n",
    "    # 取第一个token后的所有token\n",
    "    shift_labels = labels[..., 1:].contiguous().view(-1) # [batch_size * (seq_len-1)]\n",
    "    \n",
    "    loss = F.cross_entropy(\n",
    "        shift_logits, \n",
    "        shift_labels, \n",
    "        ignore_index=pad_token_id, \n",
    "        reduction='mean', \n",
    "        **kwargs\n",
    "    )\n",
    "    \n",
    "    return loss"
   ]
  }
 ],
 "metadata": {
  "language_info": {
   "name": "python"
  }
 },
 "nbformat": 4,
 "nbformat_minor": 5
}
