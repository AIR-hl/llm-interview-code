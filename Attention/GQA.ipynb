{
 "cells": [
  {
   "cell_type": "markdown",
   "id": "99063059",
   "metadata": {},
   "source": [
    "# GQA"
   ]
  },
  {
   "cell_type": "code",
   "execution_count": null,
   "id": "9d17f930",
   "metadata": {},
   "outputs": [],
   "source": [
    "import torch\n",
    "from torch import nn\n",
    "from xxx import RoPEEmbedding # 假设的RoPE模块\n",
    "\n",
    "class GroupedQueryAttention(nn.Module):\n",
    "    def __init__(self, hidden_dim, num_heads, num_groups, max_seq_len, dropout=0.0):\n",
    "        super().__init__()\n",
    "        assert hidden_dim % num_heads == 0 \"hidden_dim must be divisible by num_heads\"\n",
    "        assert num_heads % num_groups == 0 \"num_heads must be divisible by num_groups\"\n",
    "\n",
    "        self.hidden_dim = hidden_dim\n",
    "        self.num_heads = num_heads\n",
    "        self.head_dim = hidden_dim // num_heads\n",
    "        self.num_groups = num_groups\n",
    "        self.num_q_per_kv = num_heads // num_groups \n",
    "        self.scale = self.head_dim ** -0.5\n",
    "\n",
    "        self.q_proj = nn.Linear(hidden_dim, hidden_dim)\n",
    "        self.k_proj = nn.Linear(hidden_dim, self.head_dim * num_groups)\n",
    "        self.v_proj = nn.Linear(hidden_dim, self.head_dim * num_groups)\n",
    "        self.o_proj = nn.Linear(hidden_dim, hidden_dim)\n",
    "        self.dropout = nn.Dropout(dropout)\n",
    "        self.rope = RoPEEmbedding(self.head_dim, max_seq_len)\n",
    "\n",
    "\n",
    "    def forward(self, x, mask=None):\n",
    "        batch_size = x.shape[0]\n",
    "\n",
    "        Q = self.q_proj(x).view(batch_size, -1, self.num_heads, self.head_dim).transpose(1, 2)\n",
    "        K = self.k_proj(x).view(batch_size, -1, self.num_groups, self.head_dim).transpose(1, 2)\n",
    "        V = self.v_proj(x).view(batch_size, -1, self.num_groups, self.head_dim).transpose(1, 2)\n",
    "\n",
    "        # copy K and V for each query in the group\n",
    "        K = K.reapet_interleave(self.num_q_per_kv, dim=1)\n",
    "        V = V.repeat_interleave(self.num_q_per_kv, dim=1)\n",
    "\n",
    "        Q = self.rope(Q)\n",
    "        K = self.rope(K)\n",
    "\n",
    "        attn_scores = torch.matmul(Q, K.transpose(-2, -1)) * self.scale\n",
    "        if mask:\n",
    "            attn_scores = attn_scores.masked_fill(mask, float('-inf'))\n",
    "        attn_scores = torch.softmax(attn_scores, dim=-1)\n",
    "        attn_scores = self.dropout_attn(attn_scores)\n",
    "       \n",
    "        output = torch.matmul(attn_scores, V)\n",
    "        output = output.transpose(1, 2).reshape(batch_size, -1, self.hidden_dim)\n",
    "        output = self.o_proj(output)\n",
    "\n",
    "        return output, attn_scores"
   ]
  }
 ],
 "metadata": {
  "kernelspec": {
   "display_name": "gaia",
   "language": "python",
   "name": "python3"
  },
  "language_info": {
   "name": "python",
   "version": "3.11.13"
  }
 },
 "nbformat": 4,
 "nbformat_minor": 5
}
