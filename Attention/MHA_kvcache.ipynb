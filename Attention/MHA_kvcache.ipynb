{
 "cells": [
  {
   "cell_type": "markdown",
   "id": "59890fb9",
   "metadata": {},
   "source": [
    "# MHA with KV cache"
   ]
  },
  {
   "cell_type": "code",
   "execution_count": null,
   "id": "5edf26b9",
   "metadata": {},
   "outputs": [],
   "source": [
    "import torch\n",
    "from torch import nn\n",
    "from xxx import RoPEEmbedding # 假设的RoPE模块\n",
    "\n",
    "class MultiHeadAttentionWithKVCache(nn.Module):\n",
    "    def __init__(self, hidden_dim, num_heads, max_seq_len, dropout=0.1):\n",
    "        super().__init__()\n",
    "        assert hidden_dim % num_heads == 0, \"hidden_dim must be divisible by num_heads\"\n",
    "\n",
    "        self.hidden_dim = hidden_dim\n",
    "        self.num_heads = num_heads\n",
    "        self.head_dim = hidden_dim // num_heads\n",
    "        self.scale = self.head_dim ** -0.5\n",
    "        self.max_seq_len = max_seq_len\n",
    "\n",
    "        self.q_proj = nn.Linear(hidden_dim, hidden_dim)\n",
    "        self.k_proj = nn.Linear(hidden_dim, hidden_dim)\n",
    "        self.v_proj = nn.Linear(hidden_dim, hidden_dim)\n",
    "        self.o_proj = nn.Linear(hidden_dim, hidden_dim)\n",
    "        self.dropout = nn.Dropout(dropout)\n",
    "        self.rope = RoPEEmbedding(self.head_dim, max_seq_len)\n",
    "\n",
    "    def forward(self, x, mask=None, past_kv_value=None):\n",
    "        batch_size, seq_len, _ = x.shape\n",
    "        \n",
    "        Q = self.q_proj(x).view(batch_size, seq_len, self.num_heads, self.head_dim).transpose(1, 2)\n",
    "        K = self.k_proj(x).view(batch_size, seq_len, self.num_heads, self.head_dim).transpose(1, 2)\n",
    "        V = self.v_proj(x).view(batch_size, seq_len, self.num_heads, self.head_dim).transpose(1, 2)\n",
    "\n",
    "        past_len = 0\n",
    "        if past_kv_value is not None:\n",
    "            past_len = past_kv_value[0].shape[2]\n",
    "\n",
    "        Q = self.rope(Q, offset=past_len)\n",
    "        K = self.rope(K, offset=past_len)\n",
    "\n",
    "        if past_kv_value is not None:\n",
    "            past_key, past_value = past_kv_value\n",
    "            K = torch.cat([past_key, K], dim=2)\n",
    "            V = torch.cat([past_value, V], dim=2)\n",
    "        \n",
    "        present_kv_value = (K, V)\n",
    "\n",
    "        attn_scores = Q @ K.transpose(-1, -2) * self.scale\n",
    "        if mask:\n",
    "            attn_scores = attn_scores.masked_fill(mask == 0, float(\"-inf\"))\n",
    "        attn_scores = torch.softmax(attn_scores, dim=-1)\n",
    "        attn_scores = self.dropout(attn_scores)\n",
    "\n",
    "        output = (attn_scores @ V).transpose(1, 2).reshape(batch_size, seq_len, self.hidden_dim)\n",
    "        output = self.o_proj(output)\n",
    "\n",
    "        return output, attn_scores, present_kv_value"
   ]
  }
 ],
 "metadata": {
  "kernelspec": {
   "display_name": "gaia",
   "language": "python",
   "name": "python3"
  },
  "language_info": {
   "codemirror_mode": {
    "name": "ipython",
    "version": 3
   },
   "file_extension": ".py",
   "mimetype": "text/x-python",
   "name": "python",
   "nbconvert_exporter": "python",
   "pygments_lexer": "ipython3",
   "version": "3.11.13"
  }
 },
 "nbformat": 4,
 "nbformat_minor": 5
}
