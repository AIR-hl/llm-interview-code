{
 "cells": [
  {
   "cell_type": "markdown",
   "id": "16f2b896",
   "metadata": {},
   "source": [
    "# MHA"
   ]
  },
  {
   "cell_type": "code",
   "execution_count": null,
   "id": "974bffb3",
   "metadata": {},
   "outputs": [],
   "source": [
    "import torch\n",
    "from torch import nn\n",
    "from xxx import RoPEEmbedding # 假设的RoPE模块\n",
    "\n",
    "\n",
    "class MultiHeadAttention(nn.Module):\n",
    "    def __init__(self, hidden_dim, num_heads, max_seq_len, dropout=0.1):\n",
    "        super().__init__()\n",
    "        assert hidden_dim % num_heads == 0, \"hidden_dim must be divisible by num_heads\"\n",
    "\n",
    "        self.hidden_dim = hidden_dim\n",
    "        self.num_heads = num_heads\n",
    "        self.head_dim = hidden_dim // num_heads\n",
    "        self.scale=self.head_dim ** -0.5\n",
    "        self.max_seq_len = max_seq_len\n",
    "\n",
    "        self.q_proj = nn.Linear(hidden_dim, hidden_dim)\n",
    "        self.k_proj = nn.Linear(hidden_dim, hidden_dim)\n",
    "        self.v_proj = nn.Linear(hidden_dim, hidden_dim)\n",
    "        self.o_proj = nn.Linear(hidden_dim, hidden_dim)\n",
    "        self.dropout = nn.Dropout(dropout)\n",
    "        self.rope = RoPEEmbedding(self.head_dim, max_seq_len)\n",
    "    def forwward(self, x, mask=None):\n",
    "        batch_size = x.shape[0]\n",
    "\n",
    "        Q = self.q_proj(x).view(batch_size, -1, self.num_heads, self.head_dim).transpose(1, 2)  # (batch, num_heads, seq_len, head_dim)\n",
    "        K = self.k_proj(x).view(batch_size, -1, self.num_heads, self.head_dim).transpose(1, 2)\n",
    "        V = self.v_proj(x).view(batch_size, -1, self.num_heads, self.head_dim).transpose(1, 2)\n",
    "        \n",
    "        Q = self.rope(Q)\n",
    "        K = self.rope(K)\n",
    "\n",
    "        attn_scores = Q @ K.transpose(-2, -1) * self.scale\n",
    "        if mask:\n",
    "            attn_scores = attn_scores.masked_fill(mask, float('-inf'))\n",
    "        attn_scores = torch.softmax(attn_scores, dim=-1)\n",
    "        attn_scores = self.dropout(attn_scores)\n",
    "\n",
    "        output = (attn_scores @ V).transpose(1, 2).reshape(batch_size, -1, self.hidden_dim)\n",
    "        output = self.o_proj(output)\n",
    "        return output, attn_scores"
   ]
  }
 ],
 "metadata": {
  "kernelspec": {
   "display_name": "gaia",
   "language": "python",
   "name": "python3"
  },
  "language_info": {
   "name": "python",
   "version": "3.11.13"
  }
 },
 "nbformat": 4,
 "nbformat_minor": 5
}
