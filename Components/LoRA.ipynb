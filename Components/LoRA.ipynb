{
 "cells": [
  {
   "cell_type": "markdown",
   "id": "ade7cd3b",
   "metadata": {},
   "source": [
    "# LoRA Linear Layer"
   ]
  },
  {
   "cell_type": "code",
   "execution_count": null,
   "id": "c2bedc29",
   "metadata": {},
   "outputs": [],
   "source": [
    "import torch\n",
    "import torch.nn as nn\n",
    "import math\n",
    "\n",
    "class LoraLinear(nn.Module):\n",
    "    def __init__(self, in_dim, out_dim, r, alpha,bias=True):\n",
    "        super().__init__()\n",
    "        self.in_dim = in_dim\n",
    "        self.out_dim = out_dim\n",
    "        self.r = r\n",
    "        self.alpha = alpha    \n",
    "        self.scale = self.alpha / self.r\n",
    "        \n",
    "        self.linear = nn.Linear(in_dim, out_dim, bias=bias)\n",
    "        self.lora_a = nn.Linear(in_dim, r, bias=False)\n",
    "        self.lora_b = nn.Linear(r, out_dim, bias=False)\n",
    "        self._init_weights()\n",
    "        \n",
    "        # 冻结原始权重\n",
    "        self.linear.weight.requires_grad = False\n",
    "        if self.linear.bias is not None:\n",
    "            self.linear.bias.requires_grad = False\n",
    "\n",
    "    def _init_weights(self):\n",
    "        nn.init.kaiming_uniform_(self.lora_a.weight, a=math.sqrt(5))\n",
    "        nn.init.zeros_(self.lora_b.weight)\n",
    "\n",
    "    def forward(self, x):\n",
    "        original_output = self.linear(x)\n",
    "        lora_output = self.lora_b(self.lora_a(x)) * self.scale\n",
    "        return original_output + lora_output"
   ]
  }
 ],
 "metadata": {
  "kernelspec": {
   "display_name": "gaia",
   "language": "python",
   "name": "python3"
  },
  "language_info": {
   "name": "python",
   "version": "3.11.13"
  }
 },
 "nbformat": 4,
 "nbformat_minor": 5
}
