{
 "cells": [
  {
   "cell_type": "markdown",
   "id": "3b271326",
   "metadata": {},
   "source": [
    "# SwiGLU"
   ]
  },
  {
   "cell_type": "code",
   "execution_count": null,
   "id": "92484602",
   "metadata": {},
   "outputs": [],
   "source": [
    "import torch\n",
    "from torch import nn\n",
    "import torch.nn.functional as F\n",
    "\n",
    "class SwiGLU(nn.Module):\n",
    "    def __init__(self, hidden_dim, intermediate_dim, bias=False):\n",
    "        super().__init__()\n",
    "        self.gate_proj=nn.Linear(hidden_dim, intermediate_dim, bias=bias)\n",
    "        self.up_proj=nn.Linear(hidden_dim, intermediate_dim, bias=bias)\n",
    "        self.down_proj=nn.Linear(intermediate_dim, hidden_dim, bias=bias)\n",
    "\n",
    "    def forward(self, x):\n",
    "        return self.down_proj(F.silu(self.gate_proj(x)) * self.up_proj(x))"
   ]
  }
 ],
 "metadata": {
  "kernelspec": {
   "display_name": "gaia",
   "language": "python",
   "name": "python3"
  },
  "language_info": {
   "name": "python",
   "version": "3.11.13"
  }
 },
 "nbformat": 4,
 "nbformat_minor": 5
}
