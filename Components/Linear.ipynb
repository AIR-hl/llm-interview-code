{
 "cells": [
  {
   "cell_type": "markdown",
   "id": "a6e97755",
   "metadata": {},
   "source": [
    "# Linear Layer"
   ]
  },
  {
   "cell_type": "code",
   "execution_count": null,
   "id": "61311f95",
   "metadata": {},
   "outputs": [],
   "source": [
    "import torch\n",
    "from torch import nn\n",
    "\n",
    "class Linear(nn.Module):\n",
    "    def __init__(self, in_dim, out_dim, bias=True):\n",
    "        super().__init__()\n",
    "        # 初始化为 (out_dim, in_dim) 与pytorch底层张量存储方式有关，有利于计算效率\n",
    "        self.weight=nn.Parameter(torch.randn(out_dim, in_dim))\n",
    "        self.bias=None\n",
    "        if bias:\n",
    "            self.bias=nn.Parameter(torch.randn(out_dim))\n",
    "        \n",
    "    def forward(self, x):\n",
    "        output=x @ self.weight.t()\n",
    "        if self.bias:\n",
    "            output+=self.bias\n",
    "        return output"
   ]
  }
 ],
 "metadata": {
  "kernelspec": {
   "display_name": "gaia",
   "language": "python",
   "name": "python3"
  },
  "language_info": {
   "codemirror_mode": {
    "name": "ipython",
    "version": 3
   },
   "file_extension": ".py",
   "mimetype": "text/x-python",
   "name": "python",
   "nbconvert_exporter": "python",
   "pygments_lexer": "ipython3",
   "version": "3.11.13"
  }
 },
 "nbformat": 4,
 "nbformat_minor": 5
}
