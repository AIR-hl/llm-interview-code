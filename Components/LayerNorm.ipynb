{
 "cells": [
  {
   "cell_type": "markdown",
   "id": "2cd0a0f8",
   "metadata": {},
   "source": [
    "# Layer Normalization"
   ]
  },
  {
   "cell_type": "code",
   "execution_count": null,
   "id": "5b93ae44",
   "metadata": {},
   "outputs": [],
   "source": [
    "import torch\n",
    "from torch import nn\n",
    "\n",
    "class LayerNorm(nn.Module):\n",
    "    def __init__(self, hidden_dim, eps=1e-6):\n",
    "        super().__init__()\n",
    "        self.weight=nn.Parameter(torch.ones(hidden_dim))\n",
    "        self.bias=nn.Parameter(torch.zeros(hidden_dim))\n",
    "        self.eps=eps\n",
    "\n",
    "    def forward(self, x):\n",
    "        avg=x.mean(dim=-1, keepdim=True)\n",
    "        var=x.var(dim=-1, keepdim=True, unbiased=False)\n",
    "        x_norm=(x-avg) / torch.sqrt(var+self.eps)\n",
    "        return x_norm * self.weight + self.bias"
   ]
  }
 ],
 "metadata": {
  "kernelspec": {
   "display_name": "gaia",
   "language": "python",
   "name": "python3"
  },
  "language_info": {
   "name": "python",
   "version": "3.11.13"
  }
 },
 "nbformat": 4,
 "nbformat_minor": 5
}
