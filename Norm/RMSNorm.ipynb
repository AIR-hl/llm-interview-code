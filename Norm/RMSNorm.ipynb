{
 "cells": [
  {
   "cell_type": "markdown",
   "id": "06c45769",
   "metadata": {},
   "source": [
    "# RMS Normalization"
   ]
  },
  {
   "cell_type": "code",
   "execution_count": null,
   "id": "ba7eda15",
   "metadata": {},
   "outputs": [],
   "source": [
    "import torch\n",
    "from torch import nn\n",
    "\n",
    "def RMSNorm(nn.Module):\n",
    "    def __init__(self, hidden_dim, eps):\n",
    "        super().__init__()\n",
    "        self.eps=eps\n",
    "        self.weight=nn.Parameter(torch.ones(hidden_dim))\n",
    "    \n",
    "    def forward(self, x):\n",
    "        rms=torch.sqrt(x.pow(2).mean(dim=-1, keepdim=True)+self.eps)\n",
    "        x_norm=x/rms\n",
    "        return self.weight * x_norm"
   ]
  }
 ],
 "metadata": {
  "language_info": {
   "name": "python"
  }
 },
 "nbformat": 4,
 "nbformat_minor": 5
}
